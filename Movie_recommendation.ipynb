{
 "cells": [
  {
   "cell_type": "markdown",
   "metadata": {},
   "source": [
    "# AML/Movie Recommender system/MDS201803"
   ]
  },
  {
   "cell_type": "code",
   "execution_count": 46,
   "metadata": {},
   "outputs": [],
   "source": [
    "import numpy as np\n",
    "import pandas as pd\n",
    "from math import sqrt"
   ]
  },
  {
   "cell_type": "code",
   "execution_count": 27,
   "metadata": {},
   "outputs": [
    {
     "data": {
      "text/html": [
       "<div>\n",
       "<style scoped>\n",
       "    .dataframe tbody tr th:only-of-type {\n",
       "        vertical-align: middle;\n",
       "    }\n",
       "\n",
       "    .dataframe tbody tr th {\n",
       "        vertical-align: top;\n",
       "    }\n",
       "\n",
       "    .dataframe thead th {\n",
       "        text-align: right;\n",
       "    }\n",
       "</style>\n",
       "<table border=\"1\" class=\"dataframe\">\n",
       "  <thead>\n",
       "    <tr style=\"text-align: right;\">\n",
       "      <th></th>\n",
       "      <th>user_id</th>\n",
       "      <th>item_id</th>\n",
       "      <th>rating</th>\n",
       "    </tr>\n",
       "  </thead>\n",
       "  <tbody>\n",
       "    <tr>\n",
       "      <th>0</th>\n",
       "      <td>196</td>\n",
       "      <td>242</td>\n",
       "      <td>3</td>\n",
       "    </tr>\n",
       "    <tr>\n",
       "      <th>1</th>\n",
       "      <td>186</td>\n",
       "      <td>302</td>\n",
       "      <td>3</td>\n",
       "    </tr>\n",
       "    <tr>\n",
       "      <th>2</th>\n",
       "      <td>22</td>\n",
       "      <td>377</td>\n",
       "      <td>1</td>\n",
       "    </tr>\n",
       "    <tr>\n",
       "      <th>3</th>\n",
       "      <td>244</td>\n",
       "      <td>51</td>\n",
       "      <td>2</td>\n",
       "    </tr>\n",
       "    <tr>\n",
       "      <th>4</th>\n",
       "      <td>166</td>\n",
       "      <td>346</td>\n",
       "      <td>1</td>\n",
       "    </tr>\n",
       "    <tr>\n",
       "      <th>5</th>\n",
       "      <td>298</td>\n",
       "      <td>474</td>\n",
       "      <td>4</td>\n",
       "    </tr>\n",
       "    <tr>\n",
       "      <th>6</th>\n",
       "      <td>115</td>\n",
       "      <td>265</td>\n",
       "      <td>2</td>\n",
       "    </tr>\n",
       "  </tbody>\n",
       "</table>\n",
       "</div>"
      ],
      "text/plain": [
       "   user_id  item_id  rating\n",
       "0      196      242       3\n",
       "1      186      302       3\n",
       "2       22      377       1\n",
       "3      244       51       2\n",
       "4      166      346       1\n",
       "5      298      474       4\n",
       "6      115      265       2"
      ]
     },
     "execution_count": 27,
     "metadata": {},
     "output_type": "execute_result"
    }
   ],
   "source": [
    "data = pd.read_csv(\"http://files.grouplens.org/datasets/movielens/ml-100k/u.data\", delimiter=\"\\t\", header = None)\n",
    "data.columns = ['user_id','item_id','rating','timestamp']\n",
    "del data['timestamp']\n",
    "data.head(7)"
   ]
  },
  {
   "cell_type": "markdown",
   "metadata": {},
   "source": [
    "Creating a dictionary of movie critics and their ratings of movies"
   ]
  },
  {
   "cell_type": "code",
   "execution_count": 28,
   "metadata": {},
   "outputs": [],
   "source": [
    "ratings = {}\n",
    "for index,row in data.iterrows():\n",
    "    try:\n",
    "        ratings[row['user_id']][row['item_id']] = row['rating']\n",
    "    except Exception:\n",
    "        ratings[row['user_id']] = {row['item_id']:row['rating']}"
   ]
  },
  {
   "cell_type": "markdown",
   "metadata": {},
   "source": [
    "Function for measuring similarity between 2 users based on their movie ratings. \n",
    "<br>Using Eucleadian distance "
   ]
  },
  {
   "cell_type": "code",
   "execution_count": 42,
   "metadata": {},
   "outputs": [],
   "source": [
    "def sim_distance(prefs,user_1,user_2):  # Get the list of shared_items  \n",
    "    si={}       #stores 1 if the movie is rated by both the users, else stores 0\n",
    "    for item in prefs[user_1]:    \n",
    "        if item in prefs[user_2]:       \n",
    "            si[item]=1\n",
    "    # if they have no ratings in common, return 0  \n",
    "    if len(si)==0: \n",
    "        return 0\n",
    "    # Add up the squares of all the differences  \n",
    "    for item in prefs[user_1]:\n",
    "        if item in prefs[user_2]:\n",
    "            sum_of_squares=sum([pow(prefs[user_1][item]-prefs[user_2][item],2)])                      \n",
    "    return(1/(1+sum_of_squares)) "
   ]
  },
  {
   "cell_type": "markdown",
   "metadata": {},
   "source": [
    "Function for measuring similarity between 2 users based on their movie ratings. \n",
    "<br>Using Pearson's correlation coefficient"
   ]
  },
  {
   "cell_type": "code",
   "execution_count": 47,
   "metadata": {},
   "outputs": [],
   "source": [
    "def sim_pearson(prefs,p1,p2):  # Get the list of mutually rated items  \n",
    "    si={}      #stores 1 if the movie is rated by both the users, else stores 0\n",
    "    for item in prefs[p1]:    \n",
    "        if item in prefs[p2]: \n",
    "            si[item]=1\n",
    "    # Find the number of elements  \n",
    "    n=len(si)\n",
    "    # if they are no ratings in common, return 0  \n",
    "    if n==0: \n",
    "        return 0\n",
    "    # Add up all the preferences  \n",
    "    sum1=sum([prefs[p1][it] for it in si])  \n",
    "    sum2=sum([prefs[p2][it] for it in si])\n",
    "    # Sum up the squares  \n",
    "    sum1Sq=sum([pow(prefs[p1][it],2) for it in si])  \n",
    "    sum2Sq=sum([pow(prefs[p2][it],2) for it in si])\n",
    "    # Sum up the products  \n",
    "    pSum=sum([prefs[p1][it]*prefs[p2][it] for it in si])\n",
    "    # Calculate Pearson score  \n",
    "    num=pSum-(sum1*sum2/n)  \n",
    "    den=sqrt((sum1Sq-pow(sum1,2)/n)*(sum2Sq-pow(sum2,2)/n))  \n",
    "    if den==0: \n",
    "        return 0\n",
    "    r=num/den\n",
    "    return r"
   ]
  },
  {
   "cell_type": "markdown",
   "metadata": {},
   "source": [
    "Function which outputs the top matching users of a perticular user"
   ]
  },
  {
   "cell_type": "code",
   "execution_count": 69,
   "metadata": {},
   "outputs": [],
   "source": [
    "# Number of results and similarity function are optional params. \n",
    "def topMatches(prefs,person,n,similarity):  # n = No. of outputs needed\n",
    "    scores=[(similarity(prefs,person,other),other) for other in prefs if other!=person]\n",
    "  # Sort the list so the highest scores appear at the top  \n",
    "    scores.sort()  \n",
    "    scores.reverse()  \n",
    "    return scores[0:n]"
   ]
  },
  {
   "cell_type": "markdown",
   "metadata": {},
   "source": [
    "Function for getting recommendations of top 10 unwatched movies"
   ]
  },
  {
   "cell_type": "code",
   "execution_count": 70,
   "metadata": {},
   "outputs": [],
   "source": [
    "def getRecommendations(prefs,person,similarity):\n",
    "    totals={}\n",
    "    simSums={}\n",
    "    for other in prefs:\n",
    "        # don't compare me to myself\n",
    "        if other==person: continue\n",
    "        sim=similarity(prefs,person,other)\n",
    "        # ignore scores of zero or lower\n",
    "        if sim<=0: continue\n",
    "        for item in prefs[other]:\n",
    "            # only score movies I haven't seen yet\n",
    "            if item not in prefs[person] or prefs[person][item]==0:\n",
    "                # Similarity * Score\n",
    "                totals.setdefault(item,0)\n",
    "                totals[item]+=prefs[other][item]*sim\n",
    "                # Sum of similarities\n",
    "                simSums.setdefault(item,0)\n",
    "                simSums[item]+=sim\n",
    "    # Create the normalized list\n",
    "    rankings=[(total/simSums[item],item) for item,total in totals.items( )]\n",
    "    # Return the sorted list\n",
    "    rankings.sort( )\n",
    "    rankings.reverse( )\n",
    "    return rankings[:10]"
   ]
  },
  {
   "cell_type": "code",
   "execution_count": 71,
   "metadata": {},
   "outputs": [
    {
     "data": {
      "text/plain": [
       "[(5.0, 1653),\n",
       " (5.0, 1599),\n",
       " (5.0, 1536),\n",
       " (5.0, 1500),\n",
       " (5.0, 1467),\n",
       " (5.0, 1293),\n",
       " (5.0, 1201),\n",
       " (5.0, 1189),\n",
       " (5.0, 1122),\n",
       " (5.0, 814)]"
      ]
     },
     "execution_count": 71,
     "metadata": {},
     "output_type": "execute_result"
    }
   ],
   "source": [
    "getRecommendations(ratings,196,sim_distance)"
   ]
  },
  {
   "cell_type": "code",
   "execution_count": null,
   "metadata": {},
   "outputs": [],
   "source": []
  }
 ],
 "metadata": {
  "kernelspec": {
   "display_name": "Python 3",
   "language": "python",
   "name": "python3"
  },
  "language_info": {
   "codemirror_mode": {
    "name": "ipython",
    "version": 3
   },
   "file_extension": ".py",
   "mimetype": "text/x-python",
   "name": "python",
   "nbconvert_exporter": "python",
   "pygments_lexer": "ipython3",
   "version": "3.7.1"
  }
 },
 "nbformat": 4,
 "nbformat_minor": 2
}
