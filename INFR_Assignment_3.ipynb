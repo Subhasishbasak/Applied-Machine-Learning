{
 "cells": [
  {
   "cell_type": "markdown",
   "metadata": {},
   "source": [
    "## INFR_Assignment_3 MDS201803"
   ]
  },
  {
   "cell_type": "code",
   "execution_count": 1,
   "metadata": {},
   "outputs": [],
   "source": [
    "import json\n",
    "import re\n",
    "import numpy as np\n",
    "import matplotlib.pyplot as plt"
   ]
  },
  {
   "cell_type": "code",
   "execution_count": 2,
   "metadata": {},
   "outputs": [],
   "source": [
    "data = []\n",
    "articles = []\n",
    "for line in open('/media/subhasish/Professional/CMI/Sem_3/Inf_ret/assignments/News_Category_Dataset_v2.json'):\n",
    "    data.append(json.loads(line))\n",
    "\n",
    "# extracting short descriptions as articles\n",
    "for i in range(len(data)):\n",
    "    articles.append(data[i]['short_description'])"
   ]
  },
  {
   "cell_type": "code",
   "execution_count": 3,
   "metadata": {},
   "outputs": [],
   "source": [
    "# removing emoji\n",
    "def remove_emoji(l):\n",
    "    return l.encode('ascii', 'ignore').decode('ascii')\n",
    "\n",
    "# expanding contracted words\n",
    "def expand(l):\n",
    "    l = re.sub(r\"won\\'t\", \"will not\", l)\n",
    "    l = re.sub(r\"can\\'t\", \"can not\", l)\n",
    "    l = re.sub(r\"n\\'t\", \" not\", l)\n",
    "    l = re.sub(r\"\\'re\", \" are\", l)\n",
    "    l = re.sub(r\"\\'s\", \" is\", l)\n",
    "    l = re.sub(r\"\\'d\", \" would\", l)\n",
    "    l = re.sub(r\"\\'ll\", \" will\", l)\n",
    "    l = re.sub(r\"\\'t\", \" not\", l)\n",
    "    l = re.sub(r\"\\'ve\", \" have\", l)\n",
    "    l = re.sub(r\"\\'m\", \" am\", l)\n",
    "    return l\n",
    "\n",
    "# removing punctuations\n",
    "punctuations = '''!()-[]{};:'\"\\,<>./?@#$%^&*_~'''\n",
    "def remove_punc(string):\n",
    "    no_punct = \"\"\n",
    "    for char in string:\n",
    "        if char not in punctuations:\n",
    "            no_punct += char\n",
    "            string = no_punct\n",
    "    return string        "
   ]
  },
  {
   "cell_type": "code",
   "execution_count": 4,
   "metadata": {},
   "outputs": [],
   "source": [
    "# applying casefolding \n",
    "for i in range(len(articles)):\n",
    "    articles[i] = remove_punc(expand(remove_emoji(articles[i].casefold())))"
   ]
  },
  {
   "cell_type": "code",
   "execution_count": 5,
   "metadata": {},
   "outputs": [],
   "source": [
    "#removing duplicates\n",
    "articles = list(set(articles) - set(['']))"
   ]
  },
  {
   "cell_type": "code",
   "execution_count": 6,
   "metadata": {},
   "outputs": [],
   "source": [
    "# creating the term frequency dictionary\n",
    "tokens = {}\n",
    "for i in range(len(articles)):\n",
    "    for j in articles[i].split():\n",
    "        try:\n",
    "            tokens[j] = tokens[j]+1\n",
    "        except Exception:\n",
    "            tokens[j] = 1"
   ]
  },
  {
   "cell_type": "code",
   "execution_count": 7,
   "metadata": {},
   "outputs": [
    {
     "data": {
      "text/plain": [
       "[('the', 197651), ('to', 112546), ('a', 100396), ('of', 95101), ('and', 94661)]"
      ]
     },
     "execution_count": 7,
     "metadata": {},
     "output_type": "execute_result"
    }
   ],
   "source": [
    "# prnting the fisrt 5 most common words\n",
    "sorted(tokens.items(), key=lambda x: x[1], reverse=True)[:5]"
   ]
  },
  {
   "cell_type": "code",
   "execution_count": 8,
   "metadata": {},
   "outputs": [
    {
     "data": {
      "text/plain": [
       "['the',\n",
       " 'to',\n",
       " 'a',\n",
       " 'of',\n",
       " 'and',\n",
       " 'is',\n",
       " 'in',\n",
       " 'that',\n",
       " 'it',\n",
       " 'i',\n",
       " 'for',\n",
       " 'you',\n",
       " 'are',\n",
       " 'not',\n",
       " 'on',\n",
       " 'we',\n",
       " 'with',\n",
       " 'have',\n",
       " 'be',\n",
       " 'this',\n",
       " 'as',\n",
       " 'was',\n",
       " 'but',\n",
       " 'your',\n",
       " 'at',\n",
       " 'from',\n",
       " 'my',\n",
       " 'can',\n",
       " 'an',\n",
       " 'will']"
      ]
     },
     "execution_count": 8,
     "metadata": {},
     "output_type": "execute_result"
    }
   ],
   "source": [
    "top_30 = []\n",
    "for i in sorted(tokens.items(), key=lambda x: x[1], reverse=True)[:30]:\n",
    "    top_30.append(i[0])\n",
    "top_30"
   ]
  },
  {
   "cell_type": "code",
   "execution_count": 18,
   "metadata": {},
   "outputs": [],
   "source": [
    "# Computes the proportion of first k frequent tokens out of total tokens\n",
    "def compute_prop(k):\n",
    "    # the top k frequent terms\n",
    "    top_k = []\n",
    "    for i in sorted(tokens.items(), key=lambda x: x[1], reverse=True)[:k]:\n",
    "        top_k.append(i[0])\n",
    "    # Total number of tokens:\n",
    "    T = 0\n",
    "    for i in tokens.keys():\n",
    "        T = T+tokens[i]\n",
    "    # Total frequency of the top 30 words:\n",
    "    top_k_freq = 0\n",
    "    for i in top_k:\n",
    "        top_k_freq = top_k_freq+tokens[i]\n",
    "    # proportion of total number of token occupied by the top 30 frequent words:\n",
    "    prop = top_k_freq/T\n",
    "    print('The proportion of top '+str(k)+' tokens is : ',100*prop)\n",
    "    return prop"
   ]
  },
  {
   "cell_type": "code",
   "execution_count": 19,
   "metadata": {},
   "outputs": [
    {
     "name": "stdout",
     "output_type": "stream",
     "text": [
      "The proportion of top 30 tokens is :  34.03115420323586\n"
     ]
    },
    {
     "data": {
      "text/plain": [
       "0.3403115420323586"
      ]
     },
     "execution_count": 19,
     "metadata": {},
     "output_type": "execute_result"
    }
   ],
   "source": [
    "# Law of 30 is valid for the data\n",
    "compute_prop(30)"
   ]
  },
  {
   "cell_type": "code",
   "execution_count": 20,
   "metadata": {},
   "outputs": [
    {
     "data": {
      "text/plain": [
       "91706"
      ]
     },
     "execution_count": 20,
     "metadata": {},
     "output_type": "execute_result"
    }
   ],
   "source": [
    "len(tokens)"
   ]
  },
  {
   "cell_type": "code",
   "execution_count": 21,
   "metadata": {},
   "outputs": [
    {
     "name": "stdout",
     "output_type": "stream",
     "text": [
      "The proportion of top 1 tokens is :  4.963532721606866\n",
      "The proportion of top 2 tokens is :  7.789856664748901\n",
      "The proportion of top 3 tokens is :  10.31106238148417\n",
      "The proportion of top 4 tokens is :  12.699296821773034\n",
      "The proportion of top 5 tokens is :  15.076481713122067\n",
      "The proportion of top 6 tokens is :  17.449949938009517\n",
      "The proportion of top 7 tokens is :  19.080285771470717\n",
      "The proportion of top 8 tokens is :  20.218263749217428\n",
      "The proportion of top 9 tokens is :  21.271386213628464\n",
      "The proportion of top 10 tokens is :  22.26685012266255\n",
      "The proportion of top 11 tokens is :  23.261259302025106\n",
      "The proportion of top 12 tokens is :  24.23668334730013\n",
      "The proportion of top 13 tokens is :  25.10379670035356\n",
      "The proportion of top 14 tokens is :  25.9650337023799\n",
      "The proportion of top 15 tokens is :  26.725292894662893\n",
      "The proportion of top 16 tokens is :  27.416391955627024\n",
      "The proportion of top 17 tokens is :  28.094834260532792\n",
      "The proportion of top 18 tokens is :  28.728350103953655\n",
      "The proportion of top 19 tokens is :  29.295844892459012\n",
      "The proportion of top 20 tokens is :  29.843676506373708\n",
      "The proportion of top 21 tokens is :  30.37925316600968\n",
      "The proportion of top 22 tokens is :  30.851822284077375\n",
      "The proportion of top 23 tokens is :  31.314647708989035\n",
      "The proportion of top 24 tokens is :  31.75271209923098\n",
      "The proportion of top 25 tokens is :  32.166392143971606\n",
      "The proportion of top 26 tokens is :  32.56372387880352\n",
      "The proportion of top 27 tokens is :  32.94603827212176\n",
      "The proportion of top 28 tokens is :  33.32267721530272\n",
      "The proportion of top 29 tokens is :  33.677869988495914\n",
      "The proportion of top 30 tokens is :  34.03115420323586\n",
      "The proportion of top 31 tokens is :  34.38295677391342\n",
      "The proportion of top 32 tokens is :  34.73400596625418\n",
      "The proportion of top 33 tokens is :  35.07973128501482\n",
      "The proportion of top 34 tokens is :  35.42332203182119\n",
      "The proportion of top 35 tokens is :  35.76231717077304\n",
      "The proportion of top 36 tokens is :  36.10091050794526\n",
      "The proportion of top 37 tokens is :  36.43734416055195\n",
      "The proportion of top 38 tokens is :  36.763632318222996\n",
      "The proportion of top 39 tokens is :  37.085224417594596\n",
      "The proportion of top 40 tokens is :  37.40387834145265\n",
      "The proportion of top 41 tokens is :  37.711733842483156\n",
      "The proportion of top 42 tokens is :  38.017906798561455\n",
      "The proportion of top 43 tokens is :  38.30409011610313\n",
      "The proportion of top 44 tokens is :  38.57929922253867\n",
      "The proportion of top 45 tokens is :  38.84938535628392\n",
      "The proportion of top 46 tokens is :  39.11849209819132\n",
      "The proportion of top 47 tokens is :  39.385564718589336\n",
      "The proportion of top 48 tokens is :  39.64015637120759\n",
      "The proportion of top 49 tokens is :  39.893492393264495\n",
      "The proportion of top 50 tokens is :  40.143387987583324\n",
      "The proportion of top 51 tokens is :  40.384845744529905\n",
      "The proportion of top 52 tokens is :  40.619221745110515\n",
      "The proportion of top 53 tokens is :  40.85259324124204\n",
      "The proportion of top 54 tokens is :  41.07968658456684\n",
      "The proportion of top 55 tokens is :  41.30647857655693\n",
      "The proportion of top 56 tokens is :  41.52837360935776\n",
      "The proportion of top 57 tokens is :  41.74941481337689\n",
      "The proportion of top 58 tokens is :  41.96769363016105\n",
      "The proportion of top 59 tokens is :  42.18012120852935\n",
      "The proportion of top 60 tokens is :  42.38257908024057\n",
      "The proportion of top 61 tokens is :  42.57669956502446\n",
      "The proportion of top 62 tokens is :  42.768785928298975\n",
      "The proportion of top 63 tokens is :  42.95117882363991\n",
      "The proportion of top 64 tokens is :  43.1306335434673\n",
      "The proportion of top 65 tokens is :  43.30534197977279\n",
      "The proportion of top 66 tokens is :  43.472667308377595\n",
      "The proportion of top 67 tokens is :  43.637757614583194\n",
      "The proportion of top 68 tokens is :  43.798930353437406\n",
      "The proportion of top 69 tokens is :  43.95942505178848\n",
      "The proportion of top 70 tokens is :  44.11703179984847\n",
      "The proportion of top 71 tokens is :  44.26944023738449\n",
      "The proportion of top 72 tokens is :  44.421346422695976\n",
      "The proportion of top 73 tokens is :  44.56920947759993\n",
      "The proportion of top 74 tokens is :  44.717022307281425\n",
      "The proportion of top 75 tokens is :  44.86425754690471\n",
      "The proportion of top 76 tokens is :  45.01041294424523\n",
      "The proportion of top 77 tokens is :  45.154207756130425\n",
      "The proportion of top 78 tokens is :  45.297826779737036\n",
      "The proportion of top 79 tokens is :  45.44124490245383\n",
      "The proportion of top 80 tokens is :  45.57702879135764\n",
      "The proportion of top 81 tokens is :  45.71238576587061\n",
      "The proportion of top 82 tokens is :  45.847642289938655\n",
      "The proportion of top 83 tokens is :  45.980462890717696\n",
      "The proportion of top 84 tokens is :  46.11212831138031\n",
      "The proportion of top 85 tokens is :  46.2433165924296\n",
      "The proportion of top 86 tokens is :  46.37445464825644\n",
      "The proportion of top 87 tokens is :  46.5038348212974\n",
      "The proportion of top 88 tokens is :  46.63178357549843\n",
      "The proportion of top 89 tokens is :  46.75867760002792\n",
      "The proportion of top 90 tokens is :  46.885320498445154\n",
      "The proportion of top 91 tokens is :  47.01176249597256\n",
      "The proportion of top 92 tokens is :  47.13466361531699\n",
      "The proportion of top 93 tokens is :  47.257414058994044\n",
      "The proportion of top 94 tokens is :  47.37722632715756\n",
      "The proportion of top 95 tokens is :  47.494627784643285\n",
      "The proportion of top 96 tokens is :  47.61044714762172\n",
      "The proportion of top 97 tokens is :  47.72275074502839\n",
      "The proportion of top 98 tokens is :  47.831237225528575\n",
      "The proportion of top 99 tokens is :  47.938970327691955\n",
      "The proportion of top 100 tokens is :  48.04439306962245\n",
      "The proportion of top 101 tokens is :  48.14979069894173\n",
      "The proportion of top 102 tokens is :  48.25506276520487\n",
      "The proportion of top 103 tokens is :  48.35925498918525\n",
      "The proportion of top 104 tokens is :  48.462819397884964\n",
      "The proportion of top 105 tokens is :  48.56618290569486\n",
      "The proportion of top 106 tokens is :  48.668114994664826\n",
      "The proportion of top 107 tokens is :  48.76984618274498\n",
      "The proportion of top 108 tokens is :  48.87145180776899\n",
      "The proportion of top 109 tokens is :  48.97200270312147\n",
      "The proportion of top 110 tokens is :  49.072176909305554\n",
      "The proportion of top 111 tokens is :  49.172275777655955\n",
      "The proportion of top 112 tokens is :  49.2723244207839\n",
      "The proportion of top 113 tokens is :  49.370941645071916\n",
      "The proportion of top 114 tokens is :  49.46767542351791\n",
      "The proportion of top 115 tokens is :  49.56400740018428\n",
      "The proportion of top 116 tokens is :  49.659510660680155\n",
      "The proportion of top 117 tokens is :  49.752904461832976\n",
      "The proportion of top 118 tokens is :  49.84587134859494\n",
      "The proportion of top 119 tokens is :  49.93783373090782\n",
      "The proportion of top 120 tokens is :  50.02934408621863\n",
      "The proportion of top 121 tokens is :  50.116610410232084\n",
      "The proportion of top 122 tokens is :  50.202244414515796\n",
      "The proportion of top 123 tokens is :  50.28664790084938\n",
      "The proportion of top 124 tokens is :  50.37082537368194\n",
      "The proportion of top 125 tokens is :  50.45460104473485\n",
      "The proportion of top 126 tokens is :  50.536041242943675\n",
      "The proportion of top 127 tokens is :  50.61743121593003\n",
      "The proportion of top 128 tokens is :  50.69869562586027\n",
      "The proportion of top 129 tokens is :  50.77970890967822\n",
      "The proportion of top 130 tokens is :  50.86037061693901\n",
      "The proportion of top 131 tokens is :  50.94073097286507\n",
      "The proportion of top 132 tokens is :  51.02101599095745\n",
      "The proportion of top 133 tokens is :  51.10067319376916\n",
      "The proportion of top 134 tokens is :  51.179978820023685\n",
      "The proportion of top 135 tokens is :  51.259259333666996\n",
      "The proportion of top 136 tokens is :  51.3381631581419\n",
      "The proportion of top 137 tokens is :  51.41696653217189\n",
      "The proportion of top 138 tokens is :  51.49479051436404\n",
      "The proportion of top 139 tokens is :  51.572162469554094\n",
      "The proportion of top 140 tokens is :  51.649459086910475\n",
      "The proportion of top 141 tokens is :  51.725826537651464\n",
      "The proportion of top 142 tokens is :  51.80174196139037\n",
      "The proportion of top 143 tokens is :  51.876100403233195\n",
      "The proportion of top 144 tokens is :  51.94963012890555\n",
      "The proportion of top 145 tokens is :  52.02233113840741\n",
      "The proportion of top 146 tokens is :  52.09191818411713\n",
      "The proportion of top 147 tokens is :  52.16135455415949\n",
      "The proportion of top 148 tokens is :  52.22918371708333\n"
     ]
    },
    {
     "name": "stdout",
     "output_type": "stream",
     "text": [
      "The proportion of top 149 tokens is :  52.296711528672446\n",
      "The proportion of top 150 tokens is :  52.36413888981666\n",
      "The proportion of top 151 tokens is :  52.431541138349644\n",
      "The proportion of top 152 tokens is :  52.498742485992814\n",
      "The proportion of top 153 tokens is :  52.565592257078805\n",
      "The proportion of top 154 tokens is :  52.632216014663754\n",
      "The proportion of top 155 tokens is :  52.698463083080306\n",
      "The proportion of top 156 tokens is :  52.76458458844071\n",
      "The proportion of top 157 tokens is :  52.828923098404026\n",
      "The proportion of top 158 tokens is :  52.89248311741929\n",
      "The proportion of top 159 tokens is :  52.95586734815597\n",
      "The proportion of top 160 tokens is :  53.0185484257783\n",
      "The proportion of top 161 tokens is :  53.08110394034449\n",
      "The proportion of top 162 tokens is :  53.14278051351774\n",
      "The proportion of top 163 tokens is :  53.20420596057872\n",
      "The proportion of top 164 tokens is :  53.2652547184713\n",
      "The proportion of top 165 tokens is :  53.3261276880853\n",
      "The proportion of top 166 tokens is :  53.38647329286352\n",
      "The proportion of top 167 tokens is :  53.44601529408249\n",
      "The proportion of top 168 tokens is :  53.50460301607484\n",
      "The proportion of top 169 tokens is :  53.563040062399814\n",
      "The proportion of top 170 tokens is :  53.621426883502345\n",
      "The proportion of top 171 tokens is :  53.67961280371506\n",
      "The proportion of top 172 tokens is :  53.737572710426726\n",
      "The proportion of top 173 tokens is :  53.79550750452717\n",
      "The proportion of top 174 tokens is :  53.85334184818271\n",
      "The proportion of top 175 tokens is :  53.909443421663596\n",
      "The proportion of top 176 tokens is :  53.96554499514448\n",
      "The proportion of top 177 tokens is :  54.02162145601414\n",
      "The proportion of top 178 tokens is :  54.07754724121643\n",
      "The proportion of top 179 tokens is :  54.13264431024823\n",
      "The proportion of top 180 tokens is :  54.18736469011163\n",
      "The proportion of top 181 tokens is :  54.241306579027004\n",
      "The proportion of top 182 tokens is :  54.29507267966378\n",
      "The proportion of top 183 tokens is :  54.34873832985565\n",
      "The proportion of top 184 tokens is :  54.40222819176894\n",
      "The proportion of top 185 tokens is :  54.455592490626096\n",
      "The proportion of top 186 tokens is :  54.5084545372587\n",
      "The proportion of top 187 tokens is :  54.56096500733414\n",
      "The proportion of top 188 tokens is :  54.612998337796256\n",
      "The proportion of top 189 tokens is :  54.664981443035934\n",
      "The proportion of top 190 tokens is :  54.71693943566438\n",
      "The proportion of top 191 tokens is :  54.768144049956014\n",
      "The proportion of top 192 tokens is :  54.818771074189435\n",
      "The proportion of top 193 tokens is :  54.868820508364635\n",
      "The proportion of top 194 tokens is :  54.91836769031529\n",
      "The proportion of top 195 tokens is :  54.96773908398737\n",
      "The proportion of top 196 tokens is :  55.01695980199208\n",
      "The proportion of top 197 tokens is :  55.066029844329435\n",
      "The proportion of top 198 tokens is :  55.11497432361065\n",
      "The proportion of top 199 tokens is :  55.163918802891864\n"
     ]
    }
   ],
   "source": [
    "k = np.arange(1, 200, 1)\n",
    "p = np.array(list(map(compute_prop,k)))"
   ]
  },
  {
   "cell_type": "code",
   "execution_count": 156,
   "metadata": {},
   "outputs": [
    {
     "data": {
      "text/plain": [
       "[<matplotlib.lines.Line2D at 0x7fabca269cf8>]"
      ]
     },
     "execution_count": 156,
     "metadata": {},
     "output_type": "execute_result"
    },
    {
     "data": {
      "image/png": "[encoded data removed]",
      "text/plain": [
       "<Figure size 432x288 with 1 Axes>"
      ]
     },
     "metadata": {
      "needs_background": "light"
     },
     "output_type": "display_data"
    }
   ],
   "source": [
    "plt.plot(k,p)"
   ]
  },
  {
   "cell_type": "code",
   "execution_count": null,
   "metadata": {},
   "outputs": [],
   "source": []
  }
 ],
 "metadata": {
  "kernelspec": {
   "display_name": "Python 3",
   "language": "python",
   "name": "python3"
  },
  "language_info": {
   "codemirror_mode": {
    "name": "ipython",
    "version": 3
   },
   "file_extension": ".py",
   "mimetype": "text/x-python",
   "name": "python",
   "nbconvert_exporter": "python",
   "pygments_lexer": "ipython3",
   "version": "3.6.8"
  }
 },
 "nbformat": 4,
 "nbformat_minor": 2
}
