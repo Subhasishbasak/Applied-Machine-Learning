{
 "cells": [
  {
   "cell_type": "markdown",
   "metadata": {},
   "source": [
    "## Information_retrieval Assignment_2 (MDS201803)"
   ]
  },
  {
   "cell_type": "markdown",
   "metadata": {},
   "source": [
    "Importing packages"
   ]
  },
  {
   "cell_type": "code",
   "execution_count": 14,
   "metadata": {},
   "outputs": [],
   "source": [
    "import pandas as pd\n",
    "from nltk.corpus import stopwords"
   ]
  },
  {
   "cell_type": "code",
   "execution_count": 39,
   "metadata": {},
   "outputs": [],
   "source": [
    "data = pd.read_json(\"/media/subhasish/Professional/CMI/Sem_3/Inf_ret/assignments/News_Category_Dataset_v2.json\", lines = True)\n",
    "data_frame = data.head(600)\n",
    "data_frame = data_frame.drop(columns=['date', 'link'])"
   ]
  },
  {
   "cell_type": "code",
   "execution_count": 44,
   "metadata": {},
   "outputs": [
    {
     "data": {
      "text/html": [
       "<div>\n",
       "<style scoped>\n",
       "    .dataframe tbody tr th:only-of-type {\n",
       "        vertical-align: middle;\n",
       "    }\n",
       "\n",
       "    .dataframe tbody tr th {\n",
       "        vertical-align: top;\n",
       "    }\n",
       "\n",
       "    .dataframe thead th {\n",
       "        text-align: right;\n",
       "    }\n",
       "</style>\n",
       "<table border=\"1\" class=\"dataframe\">\n",
       "  <thead>\n",
       "    <tr style=\"text-align: right;\">\n",
       "      <th></th>\n",
       "      <th>authors</th>\n",
       "      <th>category</th>\n",
       "      <th>headline</th>\n",
       "      <th>short_description</th>\n",
       "    </tr>\n",
       "  </thead>\n",
       "  <tbody>\n",
       "    <tr>\n",
       "      <th>0</th>\n",
       "      <td>[melissa, jeltsen]</td>\n",
       "      <td>[crime]</td>\n",
       "      <td>[were, 2, mass, shootings, texas, last, week,,...</td>\n",
       "      <td>[left, husband., killed, children., another, d...</td>\n",
       "    </tr>\n",
       "    <tr>\n",
       "      <th>1</th>\n",
       "      <td>[andy, mcdonald]</td>\n",
       "      <td>[entertainment]</td>\n",
       "      <td>[smith, joins, diplo, nicky, jam, the, 2018, w...</td>\n",
       "      <td>[course, has, song.]</td>\n",
       "    </tr>\n",
       "    <tr>\n",
       "      <th>2</th>\n",
       "      <td>[ron, dicker]</td>\n",
       "      <td>[entertainment]</td>\n",
       "      <td>[hugh, grant, marries, the, first, time, age, 57]</td>\n",
       "      <td>[actor, his, longtime, girlfriend, anna, ebers...</td>\n",
       "    </tr>\n",
       "    <tr>\n",
       "      <th>3</th>\n",
       "      <td>[ron, dicker]</td>\n",
       "      <td>[entertainment]</td>\n",
       "      <td>[jim, carrey, blasts, 'castrato', adam, schiff...</td>\n",
       "      <td>[actor, gives, dems, ass-kicking, not, fightin...</td>\n",
       "    </tr>\n",
       "    <tr>\n",
       "      <th>4</th>\n",
       "      <td>[ron, dicker]</td>\n",
       "      <td>[entertainment]</td>\n",
       "      <td>[julianna, margulies, uses, donald, trump, poo...</td>\n",
       "      <td>[\"dietland\", actress, said, using, bags, a, \"r...</td>\n",
       "    </tr>\n",
       "  </tbody>\n",
       "</table>\n",
       "</div>"
      ],
      "text/plain": [
       "              authors         category  \\\n",
       "0  [melissa, jeltsen]          [crime]   \n",
       "1    [andy, mcdonald]  [entertainment]   \n",
       "2       [ron, dicker]  [entertainment]   \n",
       "3       [ron, dicker]  [entertainment]   \n",
       "4       [ron, dicker]  [entertainment]   \n",
       "\n",
       "                                            headline  \\\n",
       "0  [were, 2, mass, shootings, texas, last, week,,...   \n",
       "1  [smith, joins, diplo, nicky, jam, the, 2018, w...   \n",
       "2  [hugh, grant, marries, the, first, time, age, 57]   \n",
       "3  [jim, carrey, blasts, 'castrato', adam, schiff...   \n",
       "4  [julianna, margulies, uses, donald, trump, poo...   \n",
       "\n",
       "                                   short_description  \n",
       "0  [left, husband., killed, children., another, d...  \n",
       "1                               [course, has, song.]  \n",
       "2  [actor, his, longtime, girlfriend, anna, ebers...  \n",
       "3  [actor, gives, dems, ass-kicking, not, fightin...  \n",
       "4  [\"dietland\", actress, said, using, bags, a, \"r...  "
      ]
     },
     "execution_count": 44,
     "metadata": {},
     "output_type": "execute_result"
    }
   ],
   "source": [
    "data_frame.head()"
   ]
  },
  {
   "cell_type": "code",
   "execution_count": 36,
   "metadata": {},
   "outputs": [
    {
     "data": {
      "text/plain": [
       "'entertainment'"
      ]
     },
     "execution_count": 36,
     "metadata": {},
     "output_type": "execute_result"
    }
   ],
   "source": [
    "data_frame['category'][1]"
   ]
  },
  {
   "cell_type": "markdown",
   "metadata": {},
   "source": [
    "Case folding"
   ]
  },
  {
   "cell_type": "code",
   "execution_count": 41,
   "metadata": {},
   "outputs": [],
   "source": [
    "for i in list(data_frame.columns):\n",
    "    for j in range(len(data_frame)):\n",
    "        data_frame[i][j] = data_frame[i][j].casefold()"
   ]
  },
  {
   "cell_type": "markdown",
   "metadata": {},
   "source": [
    "Stop word removal"
   ]
  },
  {
   "cell_type": "code",
   "execution_count": 43,
   "metadata": {},
   "outputs": [],
   "source": [
    "stop_words = stopwords.words('english')\n",
    "def remove_stopwords(l):\n",
    "    ls = l.split()\n",
    "    for i in ls:\n",
    "        if i in stop_words:\n",
    "            ls.remove(i)\n",
    "    return ls\n",
    "\n",
    "for i in range(len(data_frame)):\n",
    "    data_frame['headline'][i] = remove_stopwords(data_frame['headline'][i])\n",
    "    data_frame['short_description'][i] = remove_stopwords(data_frame['short_description'][i])\n",
    "    data_frame['authors'][i] = data_frame['authors'][i].split()\n",
    "    data_frame['category'][i] = data_frame['category'][i].split()"
   ]
  },
  {
   "cell_type": "markdown",
   "metadata": {},
   "source": [
    "Document dictionary"
   ]
  },
  {
   "cell_type": "code",
   "execution_count": 53,
   "metadata": {},
   "outputs": [],
   "source": [
    "doc = {}\n",
    "for i in range(len(data_frame)):\n",
    "    temp = []\n",
    "    for j in list(data_frame.columns):\n",
    "        temp = temp + data_frame.iloc[i,][str(j)]\n",
    "    doc[i] = temp"
   ]
  },
  {
   "cell_type": "markdown",
   "metadata": {},
   "source": [
    "Creating documents"
   ]
  },
  {
   "cell_type": "code",
   "execution_count": 60,
   "metadata": {},
   "outputs": [],
   "source": [
    "for i in range(0, 600):\n",
    "    file = open(\"Lucene_doc/doc_\" + str(i) + \".txt\",\"w\")\n",
    "    file.write(str(doc[i]))\n",
    "    file.close()"
   ]
  },
  {
   "cell_type": "code",
   "execution_count": null,
   "metadata": {},
   "outputs": [],
   "source": []
  }
 ],
 "metadata": {
  "kernelspec": {
   "display_name": "Python 3",
   "language": "python",
   "name": "python3"
  },
  "language_info": {
   "codemirror_mode": {
    "name": "ipython",
    "version": 3
   },
   "file_extension": ".py",
   "mimetype": "text/x-python",
   "name": "python",
   "nbconvert_exporter": "python",
   "pygments_lexer": "ipython3",
   "version": "3.6.8"
  }
 },
 "nbformat": 4,
 "nbformat_minor": 2
}
